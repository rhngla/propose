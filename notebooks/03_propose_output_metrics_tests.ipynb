{
 "cells": [
  {
   "cell_type": "code",
   "execution_count": null,
   "id": "35d86e2c-7ded-48a9-9c1a-35708b1bfc49",
   "metadata": {},
   "outputs": [],
   "source": [
    "import anndata as ad\n",
    "import scanpy as sc\n",
    "\n",
    "import numpy as np\n",
    "import pandas as pd\n",
    "import sklearn as sk\n",
    "import matplotlib.pyplot as plt\n",
    "import torch\n",
    "\n",
    "from propose import PROPOSE, ExpressionDataset\n",
    "import tqdm"
   ]
  },
  {
   "cell_type": "markdown",
   "id": "fdb411e8",
   "metadata": {},
   "source": [
    "**Load and process dataset**"
   ]
  },
  {
   "cell_type": "code",
   "execution_count": null,
   "id": "0211937f-81df-4b5f-8719-f439731de063",
   "metadata": {},
   "outputs": [],
   "source": [
    "# see 00_data_proc.ipynb for details on how the .h5ad file was created\n",
    "adata = ad.read_h5ad('./VISp_dataset/VISp_filtered.h5ad')\n",
    "\n",
    "# convert categorical cell type labels to numbers\n",
    "adata.obs['cell_types_25_codes'] = pd.Categorical(adata.obs['cell_types_25']).codes\n",
    "\n",
    "# save binarized data in a separate layer\n",
    "adata.layers['bin'] = (adata.X>0).astype(np.float32)\n",
    "\n",
    "print(adata)"
   ]
  },
  {
   "cell_type": "markdown",
   "id": "bcc752ef",
   "metadata": {},
   "source": [
    "**Create training and validation splits**"
   ]
  },
  {
   "cell_type": "code",
   "execution_count": null,
   "id": "07e6331f",
   "metadata": {},
   "outputs": [],
   "source": [
    "from sklearn.model_selection import StratifiedKFold"
   ]
  },
  {
   "cell_type": "code",
   "execution_count": null,
   "id": "ce14f899",
   "metadata": {},
   "outputs": [],
   "source": [
    "seed = 0  # for reproducible behavior\n",
    "skf = StratifiedKFold(n_splits=10, shuffle=True, random_state=seed)\n",
    "inds = list(skf.split(X=np.arange(adata.shape[0]),\n",
    "                      y=adata.obs['cell_types_25_codes'].values))\n",
    "\n",
    "fold = 0\n",
    "train_ind, val_ind = inds[fold]\n"
   ]
  },
  {
   "cell_type": "code",
   "execution_count": null,
   "id": "3d90a8a0-ca83-49c7-9724-500eaad64a14",
   "metadata": {},
   "outputs": [],
   "source": [
    "print(f'{adata.shape[0]} total samples')\n",
    "print(f'{np.size(train_ind)} in training set')\n",
    "print(f'{np.size(val_ind)} in validation set')\n",
    "\n",
    "# These are views, so they do not take up memory\n",
    "adata_train = adata[train_ind,:]\n",
    "adata_val = adata[val_ind,:]"
   ]
  },
  {
   "cell_type": "markdown",
   "id": "5f9a9779",
   "metadata": {},
   "source": [
    "**Run PROPOSE**\n",
    " - Here the task is to select gene sets that can be used for cell type classification.\n",
    " - The reference is a scRNA-seq dataset, and the application might be selecting genes for an mFISH experiment where we want to recover cell type identity.\n",
    " - We choose input to be the binarized gene expression values to make results robust to domain shift (scRNA-seq vs. mFISH expression)\n",
    " - We use PROPOSE with a cross entropy loss function, which is standard practice to train models for a classification problem. "
   ]
  },
  {
   "cell_type": "code",
   "execution_count": null,
   "id": "3b9c327b-130d-41dc-a263-34a3bff80df5",
   "metadata": {},
   "outputs": [],
   "source": [
    "# Initialize the dataset for PROPOSE\n",
    "# Note: Here, data_train.layers['bin'] is a sparse array\n",
    "# data_train.layers['bin'].A converts it to a dense array\n",
    "train_dataset = ExpressionDataset(adata_train.layers['bin'].A, adata_train.obs['cell_types_25_codes'])\n",
    "val_dataset = ExpressionDataset(adata_val.layers['bin'].A, adata_val.obs['cell_types_25_codes'])\n",
    "\n",
    "\n",
    "# Use GPU device if available -- we highly recommend using a GPU!\n",
    "device = torch.device(torch.cuda.current_device() if torch.cuda.is_available() else 'cpu')\n",
    "\n",
    "# Number of genes to select within the current selection process.\n",
    "num_genes = (250,)\n",
    "propose_results = {}\n",
    "\n",
    "# Set up the PROPOSE selector\n",
    "selector = PROPOSE(train_dataset,\n",
    "                   val_dataset,\n",
    "                   loss_fn=torch.nn.CrossEntropyLoss(),\n",
    "                   device=device,\n",
    "                   hidden=[128, 128])\n",
    "\n",
    "selector.labels = np.unique(adata.obs['cell_types_25_codes'].values)\n",
    "\n",
    "# Coarse removal of genes\n",
    "print('Starting initial elimination...')\n",
    "candidates, model = selector.eliminate(target=500, mbsize=128, max_nepochs=50, verbose=False)\n",
    "print('Completed initial elimination.')\n",
    "\n"
   ]
  },
  {
   "cell_type": "code",
   "execution_count": null,
   "id": "9b10fcde",
   "metadata": {},
   "outputs": [],
   "source": [
    "print('Selecting specific number of genes...')\n",
    "for num in num_genes:\n",
    "    inds, model = selector.select(num_genes=num, mbsize=128, max_nepochs=50)\n",
    "    propose_results[num] = inds\n",
    "print('Done')"
   ]
  },
  {
   "cell_type": "code",
   "execution_count": null,
   "id": "e043e96e",
   "metadata": {},
   "outputs": [],
   "source": [
    "model.frac_correct['train'] = {k:v.to('cpu').numpy() for k,v in model.frac_correct['train'].items()}\n",
    "model.frac_correct['val'] = {k:v.to('cpu').numpy() for k,v in model.frac_correct['val'].items()}\n",
    "train_df = pd.DataFrame.from_dict(model.frac_correct['train'], orient='index')\n",
    "val_df = pd.DataFrame.from_dict(model.frac_correct['val'], orient='index')\n",
    "train_df.rename(columns={0:'train'}, inplace=True)\n",
    "val_df.rename(columns={0:'val'}, inplace=True)\n",
    "df = train_df.merge(val_df, how='left', left_index=True, right_index=True)\n",
    "df"
   ]
  },
  {
   "cell_type": "code",
   "execution_count": null,
   "id": "178750a0-da81-4d2d-b745-18984b43ce08",
   "metadata": {},
   "outputs": [],
   "source": [
    "# obtain a copy of features from the anndata object\n",
    "# Note: Without the .copy(), you will modify adata itself, which may be desirable in some use cases.\n",
    "df = adata.var.copy()\n",
    "\n",
    "# set a boolean = True for genes selected in any of the rounds\n",
    "for num in num_genes:\n",
    "    df[f'propose_set_{num}'] = False\n",
    "    ind = df.iloc[propose_results[num]].index\n",
    "    df.loc[ind,f'propose_set_{num}'] = True"
   ]
  },
  {
   "cell_type": "code",
   "execution_count": null,
   "id": "083bba44",
   "metadata": {},
   "outputs": [],
   "source": [
    "# only keep features (genes) that were selected in any set by propose, and save for subsequent use\n",
    "df = df[df[[f'propose_set_{num}' for num in num_genes]].any(axis=1)]\n",
    "\n",
    "df.head(2)"
   ]
  },
  {
   "cell_type": "code",
   "execution_count": null,
   "id": "df9ec076",
   "metadata": {},
   "outputs": [],
   "source": [
    "# Plot average binarized expression pattern for selection across cell types:\n",
    "sc.pl.dotplot(adata,\n",
    "              var_names=df[df['propose_set_32']].index.values,\n",
    "              groupby='cell_types_25',\n",
    "              layer='bin')\n",
    "plt.show()"
   ]
  },
  {
   "cell_type": "markdown",
   "id": "2a26e882-fb79-46f5-906a-d3c7f117d08f",
   "metadata": {},
   "source": [
    "**Performance (TBD)**\n",
    "- The user may be interested in the average expression patterns for the selected genes\n",
    "- Train an independent classifier to assess cell type classification with the selected genes"
   ]
  },
  {
   "cell_type": "code",
   "execution_count": null,
   "id": "127cec0d",
   "metadata": {},
   "outputs": [],
   "source": [
    "import seaborn as sns\n",
    "\n",
    "f, ax = plt.subplots(1,1,figsize=(15,4))\n",
    "sns.countplot(data=adata.obs,\n",
    "              x='cell_types_25',\n",
    "              ax=ax,\n",
    "              linewidth=.5)\n",
    "bl = ax.bar_label(ax.containers[0], padding=5)\n",
    "[b.set_rotation(90) for b in bl]\n",
    "ax.tick_params(axis='x', labelrotation=90)\n",
    "ax.set(xlabel='Cell types', ylabel='Count')\n",
    "sns.despine(ax=ax)\n",
    "plt.show()"
   ]
  }
 ],
 "metadata": {
  "interpreter": {
   "hash": "8d848271dec3f607fbf7bf0d654020777b97795db5e611de3fb08a0013c4efb1"
  },
  "kernelspec": {
   "display_name": "Python 3.8.0 ('propose')",
   "language": "python",
   "name": "python3"
  },
  "language_info": {
   "codemirror_mode": {
    "name": "ipython",
    "version": 3
   },
   "file_extension": ".py",
   "mimetype": "text/x-python",
   "name": "python",
   "nbconvert_exporter": "python",
   "pygments_lexer": "ipython3",
   "version": "3.8.0"
  }
 },
 "nbformat": 4,
 "nbformat_minor": 5
}
